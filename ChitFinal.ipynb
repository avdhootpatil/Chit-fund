{
 "cells": [
  {
   "cell_type": "code",
   "execution_count": 56,
   "metadata": {},
   "outputs": [],
   "source": [
    "# Context :\n",
    "# A chit fund has 25 members. Each month they contribute Rs 2000 each. \n",
    "# End of the month, the person who bids the lowest for the corpus, gets his bid. \n",
    "# The group organizer gets paid a fixed commission of Rs 2500 each month (5% of 25*2000).It is deducted from the bid winner's corpus.  The remaining amount is distributed among all the 25 customers equally.\n",
    "\n",
    "# Enclosed excel has the table with cashflows for each month.\n",
    " \n",
    "# Task : \n",
    "# \t•\tWhat is the Annualized  Return of the person who bids in the last month ? \n",
    "# \t•\tWhat is the Annualized Return of the person who bids in the first month ?\n",
    "# \t•\tWrite an R/Python script which calculates the annualized return of chit fund participant \n",
    "# ?- Show the Return % for each month's bid winner.\n",
    " \n",
    "# Document your assumptions.\n",
    "# Note: Please google about how chitfund works, incase if you are not familiar with the mechanism! "
   ]
  },
  {
   "cell_type": "code",
   "execution_count": 57,
   "metadata": {},
   "outputs": [],
   "source": [
    "import pandas as pd\n",
    "import numpy as np\n",
    "import matplotlib.pyplot as plt"
   ]
  },
  {
   "cell_type": "code",
   "execution_count": 58,
   "metadata": {},
   "outputs": [],
   "source": [
    "data = pd.read_csv('./chitFund.csv')"
   ]
  },
  {
   "cell_type": "code",
   "execution_count": 59,
   "metadata": {},
   "outputs": [
    {
     "data": {
      "text/html": [
       "<div>\n",
       "<style scoped>\n",
       "    .dataframe tbody tr th:only-of-type {\n",
       "        vertical-align: middle;\n",
       "    }\n",
       "\n",
       "    .dataframe tbody tr th {\n",
       "        vertical-align: top;\n",
       "    }\n",
       "\n",
       "    .dataframe thead th {\n",
       "        text-align: right;\n",
       "    }\n",
       "</style>\n",
       "<table border=\"1\" class=\"dataframe\">\n",
       "  <thead>\n",
       "    <tr style=\"text-align: right;\">\n",
       "      <th></th>\n",
       "      <th>Month</th>\n",
       "      <th>Contribution</th>\n",
       "      <th>Amount won by the bidder</th>\n",
       "      <th>Chit fund organizer commission</th>\n",
       "      <th>Net amount recd by Bid winner</th>\n",
       "      <th>Amount returned to everyone in the group</th>\n",
       "    </tr>\n",
       "  </thead>\n",
       "  <tbody>\n",
       "    <tr>\n",
       "      <th>0</th>\n",
       "      <td>1</td>\n",
       "      <td>2000</td>\n",
       "      <td>40000</td>\n",
       "      <td>2500</td>\n",
       "      <td>37500</td>\n",
       "      <td>400</td>\n",
       "    </tr>\n",
       "    <tr>\n",
       "      <th>1</th>\n",
       "      <td>2</td>\n",
       "      <td>2000</td>\n",
       "      <td>42000</td>\n",
       "      <td>2500</td>\n",
       "      <td>39500</td>\n",
       "      <td>320</td>\n",
       "    </tr>\n",
       "    <tr>\n",
       "      <th>2</th>\n",
       "      <td>3</td>\n",
       "      <td>2000</td>\n",
       "      <td>45000</td>\n",
       "      <td>2500</td>\n",
       "      <td>42500</td>\n",
       "      <td>200</td>\n",
       "    </tr>\n",
       "    <tr>\n",
       "      <th>3</th>\n",
       "      <td>4</td>\n",
       "      <td>2000</td>\n",
       "      <td>48000</td>\n",
       "      <td>2500</td>\n",
       "      <td>45500</td>\n",
       "      <td>80</td>\n",
       "    </tr>\n",
       "    <tr>\n",
       "      <th>4</th>\n",
       "      <td>5</td>\n",
       "      <td>2000</td>\n",
       "      <td>40000</td>\n",
       "      <td>2500</td>\n",
       "      <td>37500</td>\n",
       "      <td>400</td>\n",
       "    </tr>\n",
       "  </tbody>\n",
       "</table>\n",
       "</div>"
      ],
      "text/plain": [
       "   Month  Contribution  Amount won by the bidder  \\\n",
       "0      1          2000                     40000   \n",
       "1      2          2000                     42000   \n",
       "2      3          2000                     45000   \n",
       "3      4          2000                     48000   \n",
       "4      5          2000                     40000   \n",
       "\n",
       "   Chit fund organizer commission  Net amount recd by Bid winner  \\\n",
       "0                            2500                          37500   \n",
       "1                            2500                          39500   \n",
       "2                            2500                          42500   \n",
       "3                            2500                          45500   \n",
       "4                            2500                          37500   \n",
       "\n",
       "   Amount returned to everyone in the group  \n",
       "0                                       400  \n",
       "1                                       320  \n",
       "2                                       200  \n",
       "3                                        80  \n",
       "4                                       400  "
      ]
     },
     "execution_count": 59,
     "metadata": {},
     "output_type": "execute_result"
    }
   ],
   "source": [
    "data.head()"
   ]
  },
  {
   "cell_type": "code",
   "execution_count": 60,
   "metadata": {},
   "outputs": [
    {
     "data": {
      "text/plain": [
       "Index(['Month', 'Contribution', 'Amount won by the bidder',\n",
       "       'Chit fund organizer commission', 'Net amount recd by Bid winner',\n",
       "       'Amount returned to everyone in the group'],\n",
       "      dtype='object')"
      ]
     },
     "execution_count": 60,
     "metadata": {},
     "output_type": "execute_result"
    }
   ],
   "source": [
    "data.columns"
   ]
  },
  {
   "cell_type": "code",
   "execution_count": 61,
   "metadata": {},
   "outputs": [
    {
     "name": "stdout",
     "output_type": "stream",
     "text": [
      "<class 'pandas.core.frame.DataFrame'>\n",
      "RangeIndex: 25 entries, 0 to 24\n",
      "Data columns (total 6 columns):\n",
      "Month                                       25 non-null int64\n",
      "Contribution                                25 non-null int64\n",
      "Amount won by the bidder                    25 non-null int64\n",
      "Chit fund organizer commission              25 non-null int64\n",
      "Net amount recd by Bid winner               25 non-null int64\n",
      "Amount returned to everyone in the group    25 non-null int64\n",
      "dtypes: int64(6)\n",
      "memory usage: 1.2 KB\n"
     ]
    }
   ],
   "source": [
    "data.info()"
   ]
  },
  {
   "cell_type": "code",
   "execution_count": 62,
   "metadata": {},
   "outputs": [
    {
     "data": {
      "text/plain": [
       "(25, 6)"
      ]
     },
     "execution_count": 62,
     "metadata": {},
     "output_type": "execute_result"
    }
   ],
   "source": [
    "data.shape"
   ]
  },
  {
   "cell_type": "code",
   "execution_count": 63,
   "metadata": {},
   "outputs": [
    {
     "name": "stdout",
     "output_type": "stream",
     "text": [
      "6200\n"
     ]
    }
   ],
   "source": [
    "# a = sum of amount returned to everyone in the group\n",
    "# b = net amount received by the bid winner\n",
    "# c = sum of contribution(50000) - a\n",
    "a = data['Amount returned to everyone in the group'].sum(axis=0)\n",
    "print(a)\n"
   ]
  },
  {
   "cell_type": "code",
   "execution_count": 64,
   "metadata": {},
   "outputs": [
    {
     "name": "stdout",
     "output_type": "stream",
     "text": [
      "0     37500\n",
      "1     39500\n",
      "2     42500\n",
      "3     45500\n",
      "4     37500\n",
      "5     39500\n",
      "6     40500\n",
      "7     41500\n",
      "8     37500\n",
      "9     39500\n",
      "10    42500\n",
      "11    45500\n",
      "12    37500\n",
      "13    39500\n",
      "14    40500\n",
      "15    40500\n",
      "16    38500\n",
      "17    39500\n",
      "18    42500\n",
      "19    42500\n",
      "20    41500\n",
      "21    43500\n",
      "22    44500\n",
      "23    45500\n",
      "24    47500\n",
      "Name: Net amount recd by Bid winner, dtype: int64\n"
     ]
    }
   ],
   "source": [
    "# b = net amount received by the bid winner\n",
    "b = data['Net amount recd by Bid winner']\n",
    "print(b)"
   ]
  },
  {
   "cell_type": "code",
   "execution_count": 65,
   "metadata": {},
   "outputs": [
    {
     "name": "stdout",
     "output_type": "stream",
     "text": [
      "43800\n"
     ]
    }
   ],
   "source": [
    "# c = sum of contribution - a(sum of amount returned to everyone in the group)\n",
    "amont = 50000\n",
    "c = 50000 - a\n",
    "print(c)"
   ]
  },
  {
   "cell_type": "code",
   "execution_count": 66,
   "metadata": {},
   "outputs": [
    {
     "name": "stdout",
     "output_type": "stream",
     "text": [
      "0    -6300\n",
      "1    -4300\n",
      "2    -1300\n",
      "3     1700\n",
      "4    -6300\n",
      "5    -4300\n",
      "6    -3300\n",
      "7    -2300\n",
      "8    -6300\n",
      "9    -4300\n",
      "10   -1300\n",
      "11    1700\n",
      "12   -6300\n",
      "13   -4300\n",
      "14   -3300\n",
      "15   -3300\n",
      "16   -5300\n",
      "17   -4300\n",
      "18   -1300\n",
      "19   -1300\n",
      "20   -2300\n",
      "21    -300\n",
      "22     700\n",
      "23    1700\n",
      "24    3700\n",
      "Name: Net amount recd by Bid winner, dtype: int64\n"
     ]
    }
   ],
   "source": [
    "# x = net amount received by the bid winner - sum of contribution\n",
    "x = b - c\n",
    "print(x)\n"
   ]
  },
  {
   "cell_type": "code",
   "execution_count": 67,
   "metadata": {},
   "outputs": [
    {
     "name": "stdout",
     "output_type": "stream",
     "text": [
      "0    -14.383562\n",
      "1     -9.817352\n",
      "2     -2.968037\n",
      "3      3.881279\n",
      "4    -14.383562\n",
      "5     -9.817352\n",
      "6     -7.534247\n",
      "7     -5.251142\n",
      "8    -14.383562\n",
      "9     -9.817352\n",
      "10    -2.968037\n",
      "11     3.881279\n",
      "12   -14.383562\n",
      "13    -9.817352\n",
      "14    -7.534247\n",
      "15    -7.534247\n",
      "16   -12.100457\n",
      "17    -9.817352\n",
      "18    -2.968037\n",
      "19    -2.968037\n",
      "20    -5.251142\n",
      "21    -0.684932\n",
      "22     1.598174\n",
      "23     3.881279\n",
      "24     8.447489\n",
      "Name: Net amount recd by Bid winner, dtype: float64\n"
     ]
    }
   ],
   "source": [
    "# y = ((x / sum of contribution - sum of amount returned to everyone in the group)* 100)\n",
    "y = ((x /c) * 100)\n",
    "print(y)"
   ]
  },
  {
   "cell_type": "code",
   "execution_count": 68,
   "metadata": {},
   "outputs": [
    {
     "name": "stdout",
     "output_type": "stream",
     "text": [
      "<class 'pandas.core.series.Series'>\n",
      "<class 'pandas.core.frame.DataFrame'>\n"
     ]
    },
    {
     "data": {
      "text/html": [
       "<div>\n",
       "<style scoped>\n",
       "    .dataframe tbody tr th:only-of-type {\n",
       "        vertical-align: middle;\n",
       "    }\n",
       "\n",
       "    .dataframe tbody tr th {\n",
       "        vertical-align: top;\n",
       "    }\n",
       "\n",
       "    .dataframe thead th {\n",
       "        text-align: right;\n",
       "    }\n",
       "</style>\n",
       "<table border=\"1\" class=\"dataframe\">\n",
       "  <thead>\n",
       "    <tr style=\"text-align: right;\">\n",
       "      <th></th>\n",
       "      <th>Month</th>\n",
       "      <th>Contribution</th>\n",
       "      <th>Amount won by the bidder</th>\n",
       "      <th>Chit fund organizer commission</th>\n",
       "      <th>Net amount recd by Bid winner</th>\n",
       "      <th>Amount returned to everyone in the group</th>\n",
       "      <th>Percentage</th>\n",
       "    </tr>\n",
       "  </thead>\n",
       "  <tbody>\n",
       "    <tr>\n",
       "      <th>0</th>\n",
       "      <td>1</td>\n",
       "      <td>2000</td>\n",
       "      <td>40000</td>\n",
       "      <td>2500</td>\n",
       "      <td>37500</td>\n",
       "      <td>400</td>\n",
       "      <td>-14.383562</td>\n",
       "    </tr>\n",
       "    <tr>\n",
       "      <th>1</th>\n",
       "      <td>2</td>\n",
       "      <td>2000</td>\n",
       "      <td>42000</td>\n",
       "      <td>2500</td>\n",
       "      <td>39500</td>\n",
       "      <td>320</td>\n",
       "      <td>-9.817352</td>\n",
       "    </tr>\n",
       "    <tr>\n",
       "      <th>2</th>\n",
       "      <td>3</td>\n",
       "      <td>2000</td>\n",
       "      <td>45000</td>\n",
       "      <td>2500</td>\n",
       "      <td>42500</td>\n",
       "      <td>200</td>\n",
       "      <td>-2.968037</td>\n",
       "    </tr>\n",
       "    <tr>\n",
       "      <th>3</th>\n",
       "      <td>4</td>\n",
       "      <td>2000</td>\n",
       "      <td>48000</td>\n",
       "      <td>2500</td>\n",
       "      <td>45500</td>\n",
       "      <td>80</td>\n",
       "      <td>3.881279</td>\n",
       "    </tr>\n",
       "    <tr>\n",
       "      <th>4</th>\n",
       "      <td>5</td>\n",
       "      <td>2000</td>\n",
       "      <td>40000</td>\n",
       "      <td>2500</td>\n",
       "      <td>37500</td>\n",
       "      <td>400</td>\n",
       "      <td>-14.383562</td>\n",
       "    </tr>\n",
       "  </tbody>\n",
       "</table>\n",
       "</div>"
      ],
      "text/plain": [
       "   Month  Contribution  Amount won by the bidder  \\\n",
       "0      1          2000                     40000   \n",
       "1      2          2000                     42000   \n",
       "2      3          2000                     45000   \n",
       "3      4          2000                     48000   \n",
       "4      5          2000                     40000   \n",
       "\n",
       "   Chit fund organizer commission  Net amount recd by Bid winner  \\\n",
       "0                            2500                          37500   \n",
       "1                            2500                          39500   \n",
       "2                            2500                          42500   \n",
       "3                            2500                          45500   \n",
       "4                            2500                          37500   \n",
       "\n",
       "   Amount returned to everyone in the group  Percentage  \n",
       "0                                       400  -14.383562  \n",
       "1                                       320   -9.817352  \n",
       "2                                       200   -2.968037  \n",
       "3                                        80    3.881279  \n",
       "4                                       400  -14.383562  "
      ]
     },
     "execution_count": 68,
     "metadata": {},
     "output_type": "execute_result"
    }
   ],
   "source": [
    "print(type(y))\n",
    "y_df  = pd.DataFrame(y)\n",
    "print(type(y_df))\n",
    "data2 = data.assign(Percentage = y)\n",
    "data2.head()"
   ]
  },
  {
   "cell_type": "code",
   "execution_count": 69,
   "metadata": {},
   "outputs": [
    {
     "data": {
      "text/plain": [
       "([<matplotlib.axis.YTick at 0xb555610>,\n",
       "  <matplotlib.axis.YTick at 0xb555230>,\n",
       "  <matplotlib.axis.YTick at 0xb551990>,\n",
       "  <matplotlib.axis.YTick at 0xb5a42d0>,\n",
       "  <matplotlib.axis.YTick at 0xb59bbb0>,\n",
       "  <matplotlib.axis.YTick at 0xb5af2f0>,\n",
       "  <matplotlib.axis.YTick at 0xb5af5f0>,\n",
       "  <matplotlib.axis.YTick at 0xb5af8d0>,\n",
       "  <matplotlib.axis.YTick at 0xb5afbb0>,\n",
       "  <matplotlib.axis.YTick at 0xb5afe90>,\n",
       "  <matplotlib.axis.YTick at 0xb5b8170>,\n",
       "  <matplotlib.axis.YTick at 0xb5afaf0>,\n",
       "  <matplotlib.axis.YTick at 0xb5af550>,\n",
       "  <matplotlib.axis.YTick at 0xb5b83f0>,\n",
       "  <matplotlib.axis.YTick at 0xb5b8670>,\n",
       "  <matplotlib.axis.YTick at 0xb5b8950>,\n",
       "  <matplotlib.axis.YTick at 0xb5b8c30>,\n",
       "  <matplotlib.axis.YTick at 0xb5b8f10>,\n",
       "  <matplotlib.axis.YTick at 0xb5c3210>,\n",
       "  <matplotlib.axis.YTick at 0xb5c34f0>,\n",
       "  <matplotlib.axis.YTick at 0xb5c37d0>,\n",
       "  <matplotlib.axis.YTick at 0xb5b8e70>,\n",
       "  <matplotlib.axis.YTick at 0xb5af250>,\n",
       "  <matplotlib.axis.YTick at 0xb5c32d0>,\n",
       "  <matplotlib.axis.YTick at 0xb5c3c90>,\n",
       "  <matplotlib.axis.YTick at 0xb5c3f70>],\n",
       " <a list of 26 Text yticklabel objects>)"
      ]
     },
     "execution_count": 69,
     "metadata": {},
     "output_type": "execute_result"
    },
    {
     "data": {
      "image/png": "[encoded data removed]",
      "text/plain": [
       "<Figure size 720x720 with 1 Axes>"
      ]
     },
     "metadata": {
      "needs_background": "light"
     },
     "output_type": "display_data"
    }
   ],
   "source": [
    "x = data2['Month']\n",
    "y = data2['Percentage']\n",
    "plt.figure(figsize=(10,10))\n",
    "plt.bar(x, y )\n",
    "plt.xticks(np.arange(0,26,1))\n",
    "plt.yticks(np.arange(-15,11,1))"
   ]
  },
  {
   "cell_type": "code",
   "execution_count": 70,
   "metadata": {},
   "outputs": [
    {
     "data": {
      "text/html": [
       "<div>\n",
       "<style scoped>\n",
       "    .dataframe tbody tr th:only-of-type {\n",
       "        vertical-align: middle;\n",
       "    }\n",
       "\n",
       "    .dataframe tbody tr th {\n",
       "        vertical-align: top;\n",
       "    }\n",
       "\n",
       "    .dataframe thead th {\n",
       "        text-align: right;\n",
       "    }\n",
       "</style>\n",
       "<table border=\"1\" class=\"dataframe\">\n",
       "  <thead>\n",
       "    <tr style=\"text-align: right;\">\n",
       "      <th></th>\n",
       "      <th>Month</th>\n",
       "      <th>Contribution</th>\n",
       "      <th>Amount won by the bidder</th>\n",
       "      <th>Chit fund organizer commission</th>\n",
       "      <th>Net amount recd by Bid winner</th>\n",
       "      <th>Amount returned to everyone in the group</th>\n",
       "      <th>Percentage</th>\n",
       "    </tr>\n",
       "  </thead>\n",
       "  <tbody>\n",
       "    <tr>\n",
       "      <th>0</th>\n",
       "      <td>1</td>\n",
       "      <td>2000</td>\n",
       "      <td>40000</td>\n",
       "      <td>2500</td>\n",
       "      <td>37500</td>\n",
       "      <td>400</td>\n",
       "      <td>-14.383562</td>\n",
       "    </tr>\n",
       "    <tr>\n",
       "      <th>1</th>\n",
       "      <td>2</td>\n",
       "      <td>2000</td>\n",
       "      <td>42000</td>\n",
       "      <td>2500</td>\n",
       "      <td>39500</td>\n",
       "      <td>320</td>\n",
       "      <td>-9.817352</td>\n",
       "    </tr>\n",
       "    <tr>\n",
       "      <th>2</th>\n",
       "      <td>3</td>\n",
       "      <td>2000</td>\n",
       "      <td>45000</td>\n",
       "      <td>2500</td>\n",
       "      <td>42500</td>\n",
       "      <td>200</td>\n",
       "      <td>-2.968037</td>\n",
       "    </tr>\n",
       "    <tr>\n",
       "      <th>3</th>\n",
       "      <td>4</td>\n",
       "      <td>2000</td>\n",
       "      <td>48000</td>\n",
       "      <td>2500</td>\n",
       "      <td>45500</td>\n",
       "      <td>80</td>\n",
       "      <td>3.881279</td>\n",
       "    </tr>\n",
       "    <tr>\n",
       "      <th>4</th>\n",
       "      <td>5</td>\n",
       "      <td>2000</td>\n",
       "      <td>40000</td>\n",
       "      <td>2500</td>\n",
       "      <td>37500</td>\n",
       "      <td>400</td>\n",
       "      <td>-14.383562</td>\n",
       "    </tr>\n",
       "    <tr>\n",
       "      <th>5</th>\n",
       "      <td>6</td>\n",
       "      <td>2000</td>\n",
       "      <td>42000</td>\n",
       "      <td>2500</td>\n",
       "      <td>39500</td>\n",
       "      <td>320</td>\n",
       "      <td>-9.817352</td>\n",
       "    </tr>\n",
       "    <tr>\n",
       "      <th>6</th>\n",
       "      <td>7</td>\n",
       "      <td>2000</td>\n",
       "      <td>43000</td>\n",
       "      <td>2500</td>\n",
       "      <td>40500</td>\n",
       "      <td>280</td>\n",
       "      <td>-7.534247</td>\n",
       "    </tr>\n",
       "    <tr>\n",
       "      <th>7</th>\n",
       "      <td>8</td>\n",
       "      <td>2000</td>\n",
       "      <td>44000</td>\n",
       "      <td>2500</td>\n",
       "      <td>41500</td>\n",
       "      <td>240</td>\n",
       "      <td>-5.251142</td>\n",
       "    </tr>\n",
       "    <tr>\n",
       "      <th>8</th>\n",
       "      <td>9</td>\n",
       "      <td>2000</td>\n",
       "      <td>40000</td>\n",
       "      <td>2500</td>\n",
       "      <td>37500</td>\n",
       "      <td>400</td>\n",
       "      <td>-14.383562</td>\n",
       "    </tr>\n",
       "    <tr>\n",
       "      <th>9</th>\n",
       "      <td>10</td>\n",
       "      <td>2000</td>\n",
       "      <td>42000</td>\n",
       "      <td>2500</td>\n",
       "      <td>39500</td>\n",
       "      <td>320</td>\n",
       "      <td>-9.817352</td>\n",
       "    </tr>\n",
       "    <tr>\n",
       "      <th>10</th>\n",
       "      <td>11</td>\n",
       "      <td>2000</td>\n",
       "      <td>45000</td>\n",
       "      <td>2500</td>\n",
       "      <td>42500</td>\n",
       "      <td>200</td>\n",
       "      <td>-2.968037</td>\n",
       "    </tr>\n",
       "    <tr>\n",
       "      <th>11</th>\n",
       "      <td>12</td>\n",
       "      <td>2000</td>\n",
       "      <td>48000</td>\n",
       "      <td>2500</td>\n",
       "      <td>45500</td>\n",
       "      <td>80</td>\n",
       "      <td>3.881279</td>\n",
       "    </tr>\n",
       "    <tr>\n",
       "      <th>12</th>\n",
       "      <td>13</td>\n",
       "      <td>2000</td>\n",
       "      <td>40000</td>\n",
       "      <td>2500</td>\n",
       "      <td>37500</td>\n",
       "      <td>400</td>\n",
       "      <td>-14.383562</td>\n",
       "    </tr>\n",
       "    <tr>\n",
       "      <th>13</th>\n",
       "      <td>14</td>\n",
       "      <td>2000</td>\n",
       "      <td>42000</td>\n",
       "      <td>2500</td>\n",
       "      <td>39500</td>\n",
       "      <td>320</td>\n",
       "      <td>-9.817352</td>\n",
       "    </tr>\n",
       "    <tr>\n",
       "      <th>14</th>\n",
       "      <td>15</td>\n",
       "      <td>2000</td>\n",
       "      <td>43000</td>\n",
       "      <td>2500</td>\n",
       "      <td>40500</td>\n",
       "      <td>280</td>\n",
       "      <td>-7.534247</td>\n",
       "    </tr>\n",
       "    <tr>\n",
       "      <th>15</th>\n",
       "      <td>16</td>\n",
       "      <td>2000</td>\n",
       "      <td>43000</td>\n",
       "      <td>2500</td>\n",
       "      <td>40500</td>\n",
       "      <td>280</td>\n",
       "      <td>-7.534247</td>\n",
       "    </tr>\n",
       "    <tr>\n",
       "      <th>16</th>\n",
       "      <td>17</td>\n",
       "      <td>2000</td>\n",
       "      <td>41000</td>\n",
       "      <td>2500</td>\n",
       "      <td>38500</td>\n",
       "      <td>360</td>\n",
       "      <td>-12.100457</td>\n",
       "    </tr>\n",
       "    <tr>\n",
       "      <th>17</th>\n",
       "      <td>18</td>\n",
       "      <td>2000</td>\n",
       "      <td>42000</td>\n",
       "      <td>2500</td>\n",
       "      <td>39500</td>\n",
       "      <td>320</td>\n",
       "      <td>-9.817352</td>\n",
       "    </tr>\n",
       "    <tr>\n",
       "      <th>18</th>\n",
       "      <td>19</td>\n",
       "      <td>2000</td>\n",
       "      <td>45000</td>\n",
       "      <td>2500</td>\n",
       "      <td>42500</td>\n",
       "      <td>200</td>\n",
       "      <td>-2.968037</td>\n",
       "    </tr>\n",
       "    <tr>\n",
       "      <th>19</th>\n",
       "      <td>20</td>\n",
       "      <td>2000</td>\n",
       "      <td>45000</td>\n",
       "      <td>2500</td>\n",
       "      <td>42500</td>\n",
       "      <td>200</td>\n",
       "      <td>-2.968037</td>\n",
       "    </tr>\n",
       "    <tr>\n",
       "      <th>20</th>\n",
       "      <td>21</td>\n",
       "      <td>2000</td>\n",
       "      <td>44000</td>\n",
       "      <td>2500</td>\n",
       "      <td>41500</td>\n",
       "      <td>240</td>\n",
       "      <td>-5.251142</td>\n",
       "    </tr>\n",
       "    <tr>\n",
       "      <th>21</th>\n",
       "      <td>22</td>\n",
       "      <td>2000</td>\n",
       "      <td>46000</td>\n",
       "      <td>2500</td>\n",
       "      <td>43500</td>\n",
       "      <td>160</td>\n",
       "      <td>-0.684932</td>\n",
       "    </tr>\n",
       "    <tr>\n",
       "      <th>22</th>\n",
       "      <td>23</td>\n",
       "      <td>2000</td>\n",
       "      <td>47000</td>\n",
       "      <td>2500</td>\n",
       "      <td>44500</td>\n",
       "      <td>120</td>\n",
       "      <td>1.598174</td>\n",
       "    </tr>\n",
       "    <tr>\n",
       "      <th>23</th>\n",
       "      <td>24</td>\n",
       "      <td>2000</td>\n",
       "      <td>48000</td>\n",
       "      <td>2500</td>\n",
       "      <td>45500</td>\n",
       "      <td>80</td>\n",
       "      <td>3.881279</td>\n",
       "    </tr>\n",
       "    <tr>\n",
       "      <th>24</th>\n",
       "      <td>25</td>\n",
       "      <td>2000</td>\n",
       "      <td>50000</td>\n",
       "      <td>2500</td>\n",
       "      <td>47500</td>\n",
       "      <td>0</td>\n",
       "      <td>8.447489</td>\n",
       "    </tr>\n",
       "  </tbody>\n",
       "</table>\n",
       "</div>"
      ],
      "text/plain": [
       "    Month  Contribution  Amount won by the bidder  \\\n",
       "0       1          2000                     40000   \n",
       "1       2          2000                     42000   \n",
       "2       3          2000                     45000   \n",
       "3       4          2000                     48000   \n",
       "4       5          2000                     40000   \n",
       "5       6          2000                     42000   \n",
       "6       7          2000                     43000   \n",
       "7       8          2000                     44000   \n",
       "8       9          2000                     40000   \n",
       "9      10          2000                     42000   \n",
       "10     11          2000                     45000   \n",
       "11     12          2000                     48000   \n",
       "12     13          2000                     40000   \n",
       "13     14          2000                     42000   \n",
       "14     15          2000                     43000   \n",
       "15     16          2000                     43000   \n",
       "16     17          2000                     41000   \n",
       "17     18          2000                     42000   \n",
       "18     19          2000                     45000   \n",
       "19     20          2000                     45000   \n",
       "20     21          2000                     44000   \n",
       "21     22          2000                     46000   \n",
       "22     23          2000                     47000   \n",
       "23     24          2000                     48000   \n",
       "24     25          2000                     50000   \n",
       "\n",
       "    Chit fund organizer commission  Net amount recd by Bid winner  \\\n",
       "0                             2500                          37500   \n",
       "1                             2500                          39500   \n",
       "2                             2500                          42500   \n",
       "3                             2500                          45500   \n",
       "4                             2500                          37500   \n",
       "5                             2500                          39500   \n",
       "6                             2500                          40500   \n",
       "7                             2500                          41500   \n",
       "8                             2500                          37500   \n",
       "9                             2500                          39500   \n",
       "10                            2500                          42500   \n",
       "11                            2500                          45500   \n",
       "12                            2500                          37500   \n",
       "13                            2500                          39500   \n",
       "14                            2500                          40500   \n",
       "15                            2500                          40500   \n",
       "16                            2500                          38500   \n",
       "17                            2500                          39500   \n",
       "18                            2500                          42500   \n",
       "19                            2500                          42500   \n",
       "20                            2500                          41500   \n",
       "21                            2500                          43500   \n",
       "22                            2500                          44500   \n",
       "23                            2500                          45500   \n",
       "24                            2500                          47500   \n",
       "\n",
       "    Amount returned to everyone in the group  Percentage  \n",
       "0                                        400  -14.383562  \n",
       "1                                        320   -9.817352  \n",
       "2                                        200   -2.968037  \n",
       "3                                         80    3.881279  \n",
       "4                                        400  -14.383562  \n",
       "5                                        320   -9.817352  \n",
       "6                                        280   -7.534247  \n",
       "7                                        240   -5.251142  \n",
       "8                                        400  -14.383562  \n",
       "9                                        320   -9.817352  \n",
       "10                                       200   -2.968037  \n",
       "11                                        80    3.881279  \n",
       "12                                       400  -14.383562  \n",
       "13                                       320   -9.817352  \n",
       "14                                       280   -7.534247  \n",
       "15                                       280   -7.534247  \n",
       "16                                       360  -12.100457  \n",
       "17                                       320   -9.817352  \n",
       "18                                       200   -2.968037  \n",
       "19                                       200   -2.968037  \n",
       "20                                       240   -5.251142  \n",
       "21                                       160   -0.684932  \n",
       "22                                       120    1.598174  \n",
       "23                                        80    3.881279  \n",
       "24                                         0    8.447489  "
      ]
     },
     "execution_count": 70,
     "metadata": {},
     "output_type": "execute_result"
    }
   ],
   "source": [
    "data2"
   ]
  },
  {
   "cell_type": "code",
   "execution_count": 84,
   "metadata": {},
   "outputs": [
    {
     "name": "stdout",
     "output_type": "stream",
     "text": [
      "Annualized return of the person who bids in the last month is :  53700\n"
     ]
    }
   ],
   "source": [
    "# What is the Annualized  Return of the person who bids in the last month ? \n",
    "retn = ((c * data2['Percentage'].iloc[-1]) / 100)\n",
    "last_return = data2['Net amount recd by Bid winner'].iloc[-1] + a\n",
    "print(\"Annualized return of the person who bids in the last month is : \" , last_return)"
   ]
  },
  {
   "cell_type": "code",
   "execution_count": 100,
   "metadata": {},
   "outputs": [
    {
     "name": "stdout",
     "output_type": "stream",
     "text": [
      "Annualized return of the person who bids in the first month is :  43700.0\n"
     ]
    }
   ],
   "source": [
    "# What is the Annualized Return of the person who bids in the first month ?\n",
    "f_retn = ((c * abs(data2['Percentage'].iloc[0])) / 100)\n",
    "first_return = amont - f_retn\n",
    "print(\"Annualized return of the person who bids in the first month is : \" , first_return)"
   ]
  },
  {
   "cell_type": "code",
   "execution_count": 101,
   "metadata": {},
   "outputs": [
    {
     "data": {
      "text/plain": [
       "([<matplotlib.axis.YTick at 0xd22c4f0>,\n",
       "  <matplotlib.axis.YTick at 0xd22c0f0>,\n",
       "  <matplotlib.axis.YTick at 0xd2287d0>,\n",
       "  <matplotlib.axis.YTick at 0xced9f30>,\n",
       "  <matplotlib.axis.YTick at 0xcee4210>,\n",
       "  <matplotlib.axis.YTick at 0xcee44f0>,\n",
       "  <matplotlib.axis.YTick at 0xced9e90>,\n",
       "  <matplotlib.axis.YTick at 0xcec4af0>,\n",
       "  <matplotlib.axis.YTick at 0xcee41f0>,\n",
       "  <matplotlib.axis.YTick at 0xcee49d0>,\n",
       "  <matplotlib.axis.YTick at 0xcee4c90>,\n",
       "  <matplotlib.axis.YTick at 0xcee4f70>,\n",
       "  <matplotlib.axis.YTick at 0xceed270>,\n",
       "  <matplotlib.axis.YTick at 0xceed550>,\n",
       "  <matplotlib.axis.YTick at 0xceed830>,\n",
       "  <matplotlib.axis.YTick at 0xcee4a70>,\n",
       "  <matplotlib.axis.YTick at 0xcecf110>,\n",
       "  <matplotlib.axis.YTick at 0xceedc10>,\n",
       "  <matplotlib.axis.YTick at 0xceedd30>,\n",
       "  <matplotlib.axis.YTick at 0xcef90b0>,\n",
       "  <matplotlib.axis.YTick at 0xcef9310>,\n",
       "  <matplotlib.axis.YTick at 0xcef95f0>,\n",
       "  <matplotlib.axis.YTick at 0xcef98d0>,\n",
       "  <matplotlib.axis.YTick at 0xcef9bb0>,\n",
       "  <matplotlib.axis.YTick at 0xcef9e90>,\n",
       "  <matplotlib.axis.YTick at 0xcef9af0>],\n",
       " <a list of 26 Text yticklabel objects>)"
      ]
     },
     "execution_count": 101,
     "metadata": {},
     "output_type": "execute_result"
    },
    {
     "data": {
      "image/png": "[encoded data removed]",
      "text/plain": [
       "<Figure size 720x720 with 1 Axes>"
      ]
     },
     "metadata": {
      "needs_background": "light"
     },
     "output_type": "display_data"
    }
   ],
   "source": [
    "# Write an R/Python script which calculates the annualized return of chit fund participant?\n",
    "x = data2['Month']\n",
    "y = data2['Percentage']\n",
    "plt.figure(figsize=(10,10))\n",
    "plt.bar(x, y )\n",
    "plt.xticks(np.arange(0,26,1))\n",
    "plt.yticks(np.arange(-15,11,1))"
   ]
  },
  {
   "cell_type": "code",
   "execution_count": null,
   "metadata": {},
   "outputs": [],
   "source": []
  },
  {
   "cell_type": "code",
   "execution_count": null,
   "metadata": {},
   "outputs": [],
   "source": []
  },
  {
   "cell_type": "code",
   "execution_count": null,
   "metadata": {},
   "outputs": [],
   "source": []
  },
  {
   "cell_type": "code",
   "execution_count": null,
   "metadata": {},
   "outputs": [],
   "source": []
  },
  {
   "cell_type": "code",
   "execution_count": null,
   "metadata": {},
   "outputs": [],
   "source": []
  },
  {
   "cell_type": "code",
   "execution_count": null,
   "metadata": {},
   "outputs": [],
   "source": []
  },
  {
   "cell_type": "code",
   "execution_count": null,
   "metadata": {},
   "outputs": [],
   "source": []
  },
  {
   "cell_type": "code",
   "execution_count": null,
   "metadata": {},
   "outputs": [],
   "source": []
  },
  {
   "cell_type": "code",
   "execution_count": null,
   "metadata": {},
   "outputs": [],
   "source": []
  },
  {
   "cell_type": "code",
   "execution_count": null,
   "metadata": {},
   "outputs": [],
   "source": []
  },
  {
   "cell_type": "code",
   "execution_count": null,
   "metadata": {},
   "outputs": [],
   "source": []
  },
  {
   "cell_type": "code",
   "execution_count": null,
   "metadata": {},
   "outputs": [],
   "source": []
  },
  {
   "cell_type": "code",
   "execution_count": null,
   "metadata": {},
   "outputs": [],
   "source": []
  },
  {
   "cell_type": "code",
   "execution_count": null,
   "metadata": {},
   "outputs": [],
   "source": []
  },
  {
   "cell_type": "code",
   "execution_count": null,
   "metadata": {},
   "outputs": [],
   "source": []
  },
  {
   "cell_type": "code",
   "execution_count": null,
   "metadata": {},
   "outputs": [],
   "source": []
  },
  {
   "cell_type": "code",
   "execution_count": null,
   "metadata": {},
   "outputs": [],
   "source": []
  },
  {
   "cell_type": "code",
   "execution_count": null,
   "metadata": {},
   "outputs": [],
   "source": []
  },
  {
   "cell_type": "code",
   "execution_count": null,
   "metadata": {},
   "outputs": [],
   "source": []
  },
  {
   "cell_type": "code",
   "execution_count": null,
   "metadata": {},
   "outputs": [],
   "source": []
  },
  {
   "cell_type": "code",
   "execution_count": null,
   "metadata": {},
   "outputs": [],
   "source": []
  },
  {
   "cell_type": "code",
   "execution_count": null,
   "metadata": {},
   "outputs": [],
   "source": []
  },
  {
   "cell_type": "code",
   "execution_count": null,
   "metadata": {},
   "outputs": [],
   "source": []
  },
  {
   "cell_type": "code",
   "execution_count": null,
   "metadata": {},
   "outputs": [],
   "source": []
  },
  {
   "cell_type": "code",
   "execution_count": null,
   "metadata": {},
   "outputs": [],
   "source": []
  },
  {
   "cell_type": "code",
   "execution_count": null,
   "metadata": {},
   "outputs": [],
   "source": []
  },
  {
   "cell_type": "code",
   "execution_count": null,
   "metadata": {},
   "outputs": [],
   "source": []
  },
  {
   "cell_type": "code",
   "execution_count": null,
   "metadata": {},
   "outputs": [],
   "source": []
  },
  {
   "cell_type": "code",
   "execution_count": null,
   "metadata": {},
   "outputs": [],
   "source": []
  },
  {
   "cell_type": "code",
   "execution_count": null,
   "metadata": {},
   "outputs": [],
   "source": []
  },
  {
   "cell_type": "code",
   "execution_count": null,
   "metadata": {},
   "outputs": [],
   "source": []
  },
  {
   "cell_type": "code",
   "execution_count": null,
   "metadata": {},
   "outputs": [],
   "source": []
  },
  {
   "cell_type": "code",
   "execution_count": null,
   "metadata": {},
   "outputs": [],
   "source": []
  },
  {
   "cell_type": "code",
   "execution_count": null,
   "metadata": {},
   "outputs": [],
   "source": []
  },
  {
   "cell_type": "code",
   "execution_count": null,
   "metadata": {},
   "outputs": [],
   "source": []
  },
  {
   "cell_type": "code",
   "execution_count": null,
   "metadata": {},
   "outputs": [],
   "source": []
  },
  {
   "cell_type": "code",
   "execution_count": null,
   "metadata": {},
   "outputs": [],
   "source": []
  },
  {
   "cell_type": "code",
   "execution_count": null,
   "metadata": {},
   "outputs": [],
   "source": []
  },
  {
   "cell_type": "code",
   "execution_count": null,
   "metadata": {},
   "outputs": [],
   "source": []
  },
  {
   "cell_type": "code",
   "execution_count": null,
   "metadata": {},
   "outputs": [],
   "source": []
  },
  {
   "cell_type": "code",
   "execution_count": null,
   "metadata": {},
   "outputs": [],
   "source": []
  },
  {
   "cell_type": "code",
   "execution_count": null,
   "metadata": {},
   "outputs": [],
   "source": []
  },
  {
   "cell_type": "code",
   "execution_count": null,
   "metadata": {},
   "outputs": [],
   "source": []
  },
  {
   "cell_type": "code",
   "execution_count": null,
   "metadata": {},
   "outputs": [],
   "source": []
  },
  {
   "cell_type": "code",
   "execution_count": null,
   "metadata": {},
   "outputs": [],
   "source": []
  },
  {
   "cell_type": "code",
   "execution_count": null,
   "metadata": {},
   "outputs": [],
   "source": []
  },
  {
   "cell_type": "code",
   "execution_count": null,
   "metadata": {},
   "outputs": [],
   "source": []
  },
  {
   "cell_type": "code",
   "execution_count": null,
   "metadata": {},
   "outputs": [],
   "source": []
  },
  {
   "cell_type": "code",
   "execution_count": null,
   "metadata": {},
   "outputs": [],
   "source": []
  },
  {
   "cell_type": "code",
   "execution_count": null,
   "metadata": {},
   "outputs": [],
   "source": []
  },
  {
   "cell_type": "code",
   "execution_count": null,
   "metadata": {},
   "outputs": [],
   "source": []
  },
  {
   "cell_type": "code",
   "execution_count": null,
   "metadata": {},
   "outputs": [],
   "source": []
  },
  {
   "cell_type": "code",
   "execution_count": null,
   "metadata": {},
   "outputs": [],
   "source": []
  },
  {
   "cell_type": "code",
   "execution_count": null,
   "metadata": {},
   "outputs": [],
   "source": []
  },
  {
   "cell_type": "code",
   "execution_count": null,
   "metadata": {},
   "outputs": [],
   "source": []
  },
  {
   "cell_type": "code",
   "execution_count": null,
   "metadata": {},
   "outputs": [],
   "source": []
  },
  {
   "cell_type": "code",
   "execution_count": null,
   "metadata": {},
   "outputs": [],
   "source": []
  },
  {
   "cell_type": "code",
   "execution_count": null,
   "metadata": {},
   "outputs": [],
   "source": []
  },
  {
   "cell_type": "code",
   "execution_count": null,
   "metadata": {},
   "outputs": [],
   "source": []
  }
 ],
 "metadata": {
  "kernelspec": {
   "display_name": "Python 3",
   "language": "python",
   "name": "python3"
  },
  "language_info": {
   "codemirror_mode": {
    "name": "ipython",
    "version": 3
   },
   "file_extension": ".py",
   "mimetype": "text/x-python",
   "name": "python",
   "nbconvert_exporter": "python",
   "pygments_lexer": "ipython3",
   "version": "3.7.0"
  }
 },
 "nbformat": 4,
 "nbformat_minor": 2
}
